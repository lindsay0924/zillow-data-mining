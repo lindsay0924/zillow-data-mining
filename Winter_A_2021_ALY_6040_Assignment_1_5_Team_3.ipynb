{
  "nbformat": 4,
  "nbformat_minor": 0,
  "metadata": {
    "colab": {
      "name": "Winter_A_2021 - ALY 6040 - Assignment 1.5 - Team 3.ipynb",
      "provenance": [],
      "collapsed_sections": []
    },
    "kernelspec": {
      "display_name": "Python 3",
      "language": "python",
      "name": "python3"
    },
    "language_info": {
      "codemirror_mode": {
        "name": "ipython",
        "version": 3
      },
      "file_extension": ".py",
      "mimetype": "text/x-python",
      "name": "python",
      "nbconvert_exporter": "python",
      "pygments_lexer": "ipython3",
      "version": "3.7.4"
    }
  },
  "cells": [
    {
      "cell_type": "code",
      "metadata": {
        "id": "qhyq7Nq9Ggng",
        "outputId": "6f0d86d6-7cc0-449a-bdbe-431f77cd2a0e"
      },
      "source": [
        "import requests\n",
        "from bs4 import BeautifulSoup\n",
        "import pandas as pd\n",
        "import seaborn as sns\n",
        "import matplotlib.pyplot as plt\n",
        "from sklearn.linear_model import LinearRegression\n",
        "from sklearn.model_selection import train_test_split as holdout\n",
        "from sklearn.preprocessing import PolynomialFeatures\n",
        "from sklearn import metrics\n",
        "import numpy as np\n",
        "# Import necessary modules \n",
        "from sklearn.neighbors import KNeighborsClassifier \n",
        "from sklearn.model_selection import train_test_split \n",
        "from sklearn.datasets import load_iris \n",
        "import numpy as np \n",
        "import matplotlib.pyplot as plt \n"
      ],
      "execution_count": null,
      "outputs": [
        {
          "output_type": "stream",
          "text": [
            "/opt/anaconda3/lib/python3.7/site-packages/statsmodels/tools/_testing.py:19: FutureWarning: pandas.util.testing is deprecated. Use the functions in the public API at pandas.testing instead.\n",
            "  import pandas.util.testing as tm\n"
          ],
          "name": "stderr"
        }
      ]
    },
    {
      "cell_type": "markdown",
      "metadata": {
        "id": "Bo47q8msC8zj"
      },
      "source": [
        "# Web Scraping using BeautifulSoup"
      ]
    },
    {
      "cell_type": "code",
      "metadata": {
        "id": "jQQUbOiYgft7"
      },
      "source": [
        "header = {\n",
        "    \"User-Agent\": \"Mozilla/5.0 (Macintosh; Intel Mac OS X 10_15_7) AppleWebKit/537.36 (KHTML, like Gecko) Chrome/87.0.4280.88 Safari/537.36\",\n",
        "    \"Accept-Language\": \"en-US,en;q=0.9\"\n",
        "}"
      ],
      "execution_count": null,
      "outputs": []
    },
    {
      "cell_type": "code",
      "metadata": {
        "colab": {
          "base_uri": "https://localhost:8080/"
        },
        "id": "G8JLpF4BGlix",
        "outputId": "83662968-81f2-42b5-f1cf-ddcb9cbae457"
      },
      "source": [
        "links=[]\n",
        "para=['1_p','2_p', '3_p', '4_p', '5_p', '6_p','7_p']\n",
        "url='https://www.zillow.com/beverly-hills-ca-90210/{}/'\n",
        "for p in para:\n",
        "  new_link=url.format(p)\n",
        "  links.append(new_link)\n",
        "print(links[3])"
      ],
      "execution_count": null,
      "outputs": [
        {
          "output_type": "stream",
          "text": [
            "https://www.zillow.com/beverly-hills-ca-90210/4_p/\n"
          ],
          "name": "stdout"
        }
      ]
    },
    {
      "cell_type": "code",
      "metadata": {
        "id": "WyQPRNS7RipN"
      },
      "source": [
        "price = []\n",
        "house_info = []\n",
        "address = []\n",
        "for url in links:\n",
        "  response = requests.get(url, headers=header)\n",
        "  data = response.text\n",
        "  \n",
        "\n",
        "  soup = BeautifulSoup(data, 'html.parser')\n",
        "  amount = list(soup.find_all('div', class_='list-card-price'))\n",
        "  for i in amount:\n",
        "      price.append(i.text)\n",
        "\n",
        "  #response = requests.get(i, headers=header)\n",
        "  #data = response.text\n",
        "  #soup = BeautifulSoup(data, 'html.parser')\n",
        "  beds = list(soup.find_all('ul',class_='list-card-details'))\n",
        "  for i in beds:\n",
        "      house_info.append(i.text)\n",
        "\n",
        "  #response = requests.get(i, headers=header)\n",
        "  #data = response.text\n",
        "  #soup = BeautifulSoup(data, 'html.parser')\n",
        "  x = list(soup.find_all('address',class_='list-card-addr'))\n",
        "  for i in x:\n",
        "      address.append(i.text)\n"
      ],
      "execution_count": null,
      "outputs": []
    },
    {
      "cell_type": "code",
      "metadata": {
        "id": "jb_lUpraC8zm",
        "outputId": "e58ed09c-bac8-4414-99cd-6559622f66fd"
      },
      "source": [
        "house_data = []\n",
        "house_data.append(price)\n",
        "house_data.append(house_info)\n",
        "house_data.append(address)\n",
        "dict = {'price':house_data[0], 'house_info':house_data[1], 'address':house_data[2]}\n",
        "data = pd.DataFrame(dict)\n",
        "print(data.shape)"
      ],
      "execution_count": null,
      "outputs": [
        {
          "output_type": "stream",
          "text": [
            "(255, 3)\n"
          ],
          "name": "stdout"
        }
      ]
    },
    {
      "cell_type": "code",
      "metadata": {
        "id": "7ytPllD-tZbH"
      },
      "source": [
        "df = data.copy()"
      ],
      "execution_count": null,
      "outputs": []
    },
    {
      "cell_type": "code",
      "metadata": {
        "colab": {
          "base_uri": "https://localhost:8080/"
        },
        "id": "HENERq9TkNr7",
        "outputId": "0f8af753-17c8-479a-8bc4-9336431186fa"
      },
      "source": [
        "df.info()"
      ],
      "execution_count": null,
      "outputs": [
        {
          "output_type": "stream",
          "text": [
            "<class 'pandas.core.frame.DataFrame'>\n",
            "RangeIndex: 255 entries, 0 to 254\n",
            "Data columns (total 3 columns):\n",
            " #   Column      Non-Null Count  Dtype \n",
            "---  ------      --------------  ----- \n",
            " 0   price       255 non-null    object\n",
            " 1   house_info  255 non-null    object\n",
            " 2   address     255 non-null    object\n",
            "dtypes: object(3)\n",
            "memory usage: 6.1+ KB\n"
          ],
          "name": "stdout"
        }
      ]
    },
    {
      "cell_type": "markdown",
      "metadata": {
        "id": "ePHpJ0MJC8zo"
      },
      "source": [
        "# Cleaning Data"
      ]
    },
    {
      "cell_type": "code",
      "metadata": {
        "id": "6vV2px0WsO2O"
      },
      "source": [
        "df['prices'] = df['price'].apply(lambda x: x[1:])"
      ],
      "execution_count": null,
      "outputs": []
    },
    {
      "cell_type": "code",
      "metadata": {
        "id": "4xI2Jy4hJgxk"
      },
      "source": [
        "df[['beds','baths','sq_feet','sqft_unit','type','for','sale','None']] = df['house_info'].str.split(expand=True)"
      ],
      "execution_count": null,
      "outputs": []
    },
    {
      "cell_type": "code",
      "metadata": {
        "colab": {
          "base_uri": "https://localhost:8080/",
          "height": 114
        },
        "id": "rzyKK8fQJihs",
        "outputId": "153790d5-30ba-41f3-dd0f-4d1992819555"
      },
      "source": [
        "df.head(1)"
      ],
      "execution_count": null,
      "outputs": [
        {
          "output_type": "execute_result",
          "data": {
            "text/html": [
              "<div>\n",
              "<style scoped>\n",
              "    .dataframe tbody tr th:only-of-type {\n",
              "        vertical-align: middle;\n",
              "    }\n",
              "\n",
              "    .dataframe tbody tr th {\n",
              "        vertical-align: top;\n",
              "    }\n",
              "\n",
              "    .dataframe thead th {\n",
              "        text-align: right;\n",
              "    }\n",
              "</style>\n",
              "<table border=\"1\" class=\"dataframe\">\n",
              "  <thead>\n",
              "    <tr style=\"text-align: right;\">\n",
              "      <th></th>\n",
              "      <th>price</th>\n",
              "      <th>house_info</th>\n",
              "      <th>address</th>\n",
              "      <th>prices</th>\n",
              "      <th>beds</th>\n",
              "      <th>baths</th>\n",
              "      <th>sq_feet</th>\n",
              "      <th>sqft_unit</th>\n",
              "      <th>type</th>\n",
              "      <th>for</th>\n",
              "      <th>sale</th>\n",
              "      <th>None</th>\n",
              "    </tr>\n",
              "  </thead>\n",
              "  <tbody>\n",
              "    <tr>\n",
              "      <th>0</th>\n",
              "      <td>$160,000,000</td>\n",
              "      <td>13 bds,25 ba,28,660 sqft- House for sale</td>\n",
              "      <td>67 Beverly Park Ct, Beverly Hills, CA 90210</td>\n",
              "      <td>160,000,000</td>\n",
              "      <td>13</td>\n",
              "      <td>bds,25</td>\n",
              "      <td>ba,28,660</td>\n",
              "      <td>sqft-</td>\n",
              "      <td>House</td>\n",
              "      <td>for</td>\n",
              "      <td>sale</td>\n",
              "      <td>None</td>\n",
              "    </tr>\n",
              "  </tbody>\n",
              "</table>\n",
              "</div>"
            ],
            "text/plain": [
              "          price                                house_info  \\\n",
              "0  $160,000,000  13 bds,25 ba,28,660 sqft- House for sale   \n",
              "\n",
              "                                       address       prices beds   baths  \\\n",
              "0  67 Beverly Park Ct, Beverly Hills, CA 90210  160,000,000   13  bds,25   \n",
              "\n",
              "     sq_feet sqft_unit   type  for  sale  None  \n",
              "0  ba,28,660     sqft-  House  for  sale  None  "
            ]
          },
          "metadata": {
            "tags": []
          },
          "execution_count": 10
        }
      ]
    },
    {
      "cell_type": "code",
      "metadata": {
        "id": "UqqKgn7G6ToS"
      },
      "source": [
        "df[['redundant','baths']] = df['baths'].str.split(',',n=1,expand=True)"
      ],
      "execution_count": null,
      "outputs": []
    },
    {
      "cell_type": "code",
      "metadata": {
        "id": "YCJGiejk7tq3"
      },
      "source": [
        "df['sq_feet']=df['sq_feet'].replace('ba,','',regex=True)"
      ],
      "execution_count": null,
      "outputs": []
    },
    {
      "cell_type": "code",
      "metadata": {
        "id": "YyHzS3NXZTPm"
      },
      "source": [
        "df[['street_name','city','state_zip_code']]=df['address'].str.split(',',n=2, expand=True)"
      ],
      "execution_count": null,
      "outputs": []
    },
    {
      "cell_type": "code",
      "metadata": {
        "colab": {
          "base_uri": "https://localhost:8080/",
          "height": 202
        },
        "id": "kR2nEsqx84uC",
        "outputId": "30a7a0d3-f33b-455e-e9bc-de19695ad78b"
      },
      "source": [
        "df.head(1)"
      ],
      "execution_count": null,
      "outputs": [
        {
          "output_type": "execute_result",
          "data": {
            "text/html": [
              "<div>\n",
              "<style scoped>\n",
              "    .dataframe tbody tr th:only-of-type {\n",
              "        vertical-align: middle;\n",
              "    }\n",
              "\n",
              "    .dataframe tbody tr th {\n",
              "        vertical-align: top;\n",
              "    }\n",
              "\n",
              "    .dataframe thead th {\n",
              "        text-align: right;\n",
              "    }\n",
              "</style>\n",
              "<table border=\"1\" class=\"dataframe\">\n",
              "  <thead>\n",
              "    <tr style=\"text-align: right;\">\n",
              "      <th></th>\n",
              "      <th>price</th>\n",
              "      <th>house_info</th>\n",
              "      <th>address</th>\n",
              "      <th>prices</th>\n",
              "      <th>beds</th>\n",
              "      <th>baths</th>\n",
              "      <th>sq_feet</th>\n",
              "      <th>sqft_unit</th>\n",
              "      <th>type</th>\n",
              "      <th>for</th>\n",
              "      <th>sale</th>\n",
              "      <th>None</th>\n",
              "      <th>redundant</th>\n",
              "      <th>street_name</th>\n",
              "      <th>city</th>\n",
              "      <th>state_zip_code</th>\n",
              "    </tr>\n",
              "  </thead>\n",
              "  <tbody>\n",
              "    <tr>\n",
              "      <th>0</th>\n",
              "      <td>$160,000,000</td>\n",
              "      <td>13 bds,25 ba,28,660 sqft- House for sale</td>\n",
              "      <td>67 Beverly Park Ct, Beverly Hills, CA 90210</td>\n",
              "      <td>160,000,000</td>\n",
              "      <td>13</td>\n",
              "      <td>25</td>\n",
              "      <td>28,660</td>\n",
              "      <td>sqft-</td>\n",
              "      <td>House</td>\n",
              "      <td>for</td>\n",
              "      <td>sale</td>\n",
              "      <td>None</td>\n",
              "      <td>bds</td>\n",
              "      <td>67 Beverly Park Ct</td>\n",
              "      <td>Beverly Hills</td>\n",
              "      <td>CA 90210</td>\n",
              "    </tr>\n",
              "  </tbody>\n",
              "</table>\n",
              "</div>"
            ],
            "text/plain": [
              "          price                                house_info  \\\n",
              "0  $160,000,000  13 bds,25 ba,28,660 sqft- House for sale   \n",
              "\n",
              "                                       address       prices beds baths  \\\n",
              "0  67 Beverly Park Ct, Beverly Hills, CA 90210  160,000,000   13    25   \n",
              "\n",
              "  sq_feet sqft_unit   type  for  sale  None redundant         street_name  \\\n",
              "0  28,660     sqft-  House  for  sale  None       bds  67 Beverly Park Ct   \n",
              "\n",
              "             city state_zip_code  \n",
              "0   Beverly Hills       CA 90210  "
            ]
          },
          "metadata": {
            "tags": []
          },
          "execution_count": 14
        }
      ]
    },
    {
      "cell_type": "code",
      "metadata": {
        "id": "zaXLhCHy362u"
      },
      "source": [
        "#drop unnecessary columns\n",
        "feature_drop = ['price','house_info','for', 'sale','redundant','sqft_unit','None']\n",
        "df1 = df.drop(feature_drop, axis=1)"
      ],
      "execution_count": null,
      "outputs": []
    },
    {
      "cell_type": "code",
      "metadata": {
        "colab": {
          "base_uri": "https://localhost:8080/",
          "height": 289
        },
        "id": "Dr5t5NEcRipT",
        "outputId": "6cb387c9-348b-4615-b36a-20679821731d"
      },
      "source": [
        "df1.head()"
      ],
      "execution_count": null,
      "outputs": [
        {
          "output_type": "execute_result",
          "data": {
            "text/html": [
              "<div>\n",
              "<style scoped>\n",
              "    .dataframe tbody tr th:only-of-type {\n",
              "        vertical-align: middle;\n",
              "    }\n",
              "\n",
              "    .dataframe tbody tr th {\n",
              "        vertical-align: top;\n",
              "    }\n",
              "\n",
              "    .dataframe thead th {\n",
              "        text-align: right;\n",
              "    }\n",
              "</style>\n",
              "<table border=\"1\" class=\"dataframe\">\n",
              "  <thead>\n",
              "    <tr style=\"text-align: right;\">\n",
              "      <th></th>\n",
              "      <th>address</th>\n",
              "      <th>prices</th>\n",
              "      <th>beds</th>\n",
              "      <th>baths</th>\n",
              "      <th>sq_feet</th>\n",
              "      <th>type</th>\n",
              "      <th>street_name</th>\n",
              "      <th>city</th>\n",
              "      <th>state_zip_code</th>\n",
              "    </tr>\n",
              "  </thead>\n",
              "  <tbody>\n",
              "    <tr>\n",
              "      <th>0</th>\n",
              "      <td>67 Beverly Park Ct, Beverly Hills, CA 90210</td>\n",
              "      <td>160,000,000</td>\n",
              "      <td>13</td>\n",
              "      <td>25</td>\n",
              "      <td>28,660</td>\n",
              "      <td>House</td>\n",
              "      <td>67 Beverly Park Ct</td>\n",
              "      <td>Beverly Hills</td>\n",
              "      <td>CA 90210</td>\n",
              "    </tr>\n",
              "    <tr>\n",
              "      <th>1</th>\n",
              "      <td>9901 Kip Dr, Beverly Hills, CA 90210</td>\n",
              "      <td>6,700,000</td>\n",
              "      <td>5</td>\n",
              "      <td>7</td>\n",
              "      <td>7,466</td>\n",
              "      <td>House</td>\n",
              "      <td>9901 Kip Dr</td>\n",
              "      <td>Beverly Hills</td>\n",
              "      <td>CA 90210</td>\n",
              "    </tr>\n",
              "    <tr>\n",
              "      <th>2</th>\n",
              "      <td>9833 Easton Dr, Beverly Hills, CA 90210</td>\n",
              "      <td>1,495,000</td>\n",
              "      <td>3</td>\n",
              "      <td>3</td>\n",
              "      <td>1,500</td>\n",
              "      <td>House</td>\n",
              "      <td>9833 Easton Dr</td>\n",
              "      <td>Beverly Hills</td>\n",
              "      <td>CA 90210</td>\n",
              "    </tr>\n",
              "    <tr>\n",
              "      <th>3</th>\n",
              "      <td>2571 Wallingford Dr, Beverly Hills, CA 90210</td>\n",
              "      <td>85,000,000</td>\n",
              "      <td>12</td>\n",
              "      <td>24</td>\n",
              "      <td>38,000</td>\n",
              "      <td>House</td>\n",
              "      <td>2571 Wallingford Dr</td>\n",
              "      <td>Beverly Hills</td>\n",
              "      <td>CA 90210</td>\n",
              "    </tr>\n",
              "    <tr>\n",
              "      <th>4</th>\n",
              "      <td>1426 Summitridge Dr, Beverly Hills, CA 90210</td>\n",
              "      <td>46,500,000</td>\n",
              "      <td>6</td>\n",
              "      <td>9</td>\n",
              "      <td>21,046</td>\n",
              "      <td>House</td>\n",
              "      <td>1426 Summitridge Dr</td>\n",
              "      <td>Beverly Hills</td>\n",
              "      <td>CA 90210</td>\n",
              "    </tr>\n",
              "  </tbody>\n",
              "</table>\n",
              "</div>"
            ],
            "text/plain": [
              "                                        address       prices beds baths  \\\n",
              "0   67 Beverly Park Ct, Beverly Hills, CA 90210  160,000,000   13    25   \n",
              "1          9901 Kip Dr, Beverly Hills, CA 90210    6,700,000    5     7   \n",
              "2       9833 Easton Dr, Beverly Hills, CA 90210    1,495,000    3     3   \n",
              "3  2571 Wallingford Dr, Beverly Hills, CA 90210   85,000,000   12    24   \n",
              "4  1426 Summitridge Dr, Beverly Hills, CA 90210   46,500,000    6     9   \n",
              "\n",
              "  sq_feet   type          street_name            city state_zip_code  \n",
              "0  28,660  House   67 Beverly Park Ct   Beverly Hills       CA 90210  \n",
              "1   7,466  House          9901 Kip Dr   Beverly Hills       CA 90210  \n",
              "2   1,500  House       9833 Easton Dr   Beverly Hills       CA 90210  \n",
              "3  38,000  House  2571 Wallingford Dr   Beverly Hills       CA 90210  \n",
              "4  21,046  House  1426 Summitridge Dr   Beverly Hills       CA 90210  "
            ]
          },
          "metadata": {
            "tags": []
          },
          "execution_count": 16
        }
      ]
    },
    {
      "cell_type": "code",
      "metadata": {
        "id": "x4tqN_w2Z9pg"
      },
      "source": [
        "#beakup state_zip_code into state and zip code\n",
        "df1['zip_code'] = df1['state_zip_code'].replace('CA ','', regex=True)"
      ],
      "execution_count": null,
      "outputs": []
    },
    {
      "cell_type": "code",
      "metadata": {
        "id": "LA8HGcpvsazl"
      },
      "source": [
        "#reorder columns\n",
        "zillow_df = df1[['prices','beds','baths','sq_feet','type','address','street_name',\n",
        "       'city', 'zip_code']]"
      ],
      "execution_count": null,
      "outputs": []
    },
    {
      "cell_type": "code",
      "metadata": {
        "id": "Io45sioKC8zu",
        "outputId": "cfb5f8cf-e078-404f-fde3-4befa4fc5e0a"
      },
      "source": [
        "#pd.to_numeric(zillow_df['baths'])\n",
        "zillow_df['prices'] = zillow_df['prices'].str.replace(',','').astype(float)"
      ],
      "execution_count": null,
      "outputs": [
        {
          "output_type": "stream",
          "text": [
            "/opt/anaconda3/lib/python3.7/site-packages/ipykernel_launcher.py:2: SettingWithCopyWarning: \n",
            "A value is trying to be set on a copy of a slice from a DataFrame.\n",
            "Try using .loc[row_indexer,col_indexer] = value instead\n",
            "\n",
            "See the caveats in the documentation: https://pandas.pydata.org/pandas-docs/stable/user_guide/indexing.html#returning-a-view-versus-a-copy\n",
            "  \n"
          ],
          "name": "stderr"
        }
      ]
    },
    {
      "cell_type": "code",
      "metadata": {
        "id": "Sw5phhulC8zv",
        "outputId": "51de6d42-f4ac-44a8-8605-4ce3f0033200"
      },
      "source": [
        "zillow_df['beds']=zillow_df['beds'].replace('Studio,--', None)\n",
        "zillow_df['beds']=zillow_df['beds'].replace('--', None)\n",
        "zillow_df['beds']=zillow_df['beds'].str.replace(',', '').astype(float)"
      ],
      "execution_count": null,
      "outputs": [
        {
          "output_type": "stream",
          "text": [
            "/opt/anaconda3/lib/python3.7/site-packages/ipykernel_launcher.py:1: SettingWithCopyWarning: \n",
            "A value is trying to be set on a copy of a slice from a DataFrame.\n",
            "Try using .loc[row_indexer,col_indexer] = value instead\n",
            "\n",
            "See the caveats in the documentation: https://pandas.pydata.org/pandas-docs/stable/user_guide/indexing.html#returning-a-view-versus-a-copy\n",
            "  \"\"\"Entry point for launching an IPython kernel.\n",
            "/opt/anaconda3/lib/python3.7/site-packages/ipykernel_launcher.py:2: SettingWithCopyWarning: \n",
            "A value is trying to be set on a copy of a slice from a DataFrame.\n",
            "Try using .loc[row_indexer,col_indexer] = value instead\n",
            "\n",
            "See the caveats in the documentation: https://pandas.pydata.org/pandas-docs/stable/user_guide/indexing.html#returning-a-view-versus-a-copy\n",
            "  \n",
            "/opt/anaconda3/lib/python3.7/site-packages/ipykernel_launcher.py:3: SettingWithCopyWarning: \n",
            "A value is trying to be set on a copy of a slice from a DataFrame.\n",
            "Try using .loc[row_indexer,col_indexer] = value instead\n",
            "\n",
            "See the caveats in the documentation: https://pandas.pydata.org/pandas-docs/stable/user_guide/indexing.html#returning-a-view-versus-a-copy\n",
            "  This is separate from the ipykernel package so we can avoid doing imports until\n"
          ],
          "name": "stderr"
        }
      ]
    },
    {
      "cell_type": "code",
      "metadata": {
        "id": "Ao5tIEoIC8zw",
        "outputId": "5af00ace-0385-4389-8cc9-e073cb7fcfd7"
      },
      "source": [
        "zillow_df['baths'] = zillow_df['baths'].replace('--', None)\n",
        "zillow_df['baths'] = zillow_df['baths'].str.replace(',','').astype(float)\n"
      ],
      "execution_count": null,
      "outputs": [
        {
          "output_type": "stream",
          "text": [
            "/opt/anaconda3/lib/python3.7/site-packages/ipykernel_launcher.py:1: SettingWithCopyWarning: \n",
            "A value is trying to be set on a copy of a slice from a DataFrame.\n",
            "Try using .loc[row_indexer,col_indexer] = value instead\n",
            "\n",
            "See the caveats in the documentation: https://pandas.pydata.org/pandas-docs/stable/user_guide/indexing.html#returning-a-view-versus-a-copy\n",
            "  \"\"\"Entry point for launching an IPython kernel.\n",
            "/opt/anaconda3/lib/python3.7/site-packages/ipykernel_launcher.py:2: SettingWithCopyWarning: \n",
            "A value is trying to be set on a copy of a slice from a DataFrame.\n",
            "Try using .loc[row_indexer,col_indexer] = value instead\n",
            "\n",
            "See the caveats in the documentation: https://pandas.pydata.org/pandas-docs/stable/user_guide/indexing.html#returning-a-view-versus-a-copy\n",
            "  \n"
          ],
          "name": "stderr"
        }
      ]
    },
    {
      "cell_type": "code",
      "metadata": {
        "id": "JlL4mHNcC8zx",
        "outputId": "e7f90bdf-6349-4b27-cf14-fd60d1634551"
      },
      "source": [
        "\n",
        "zillow_df['sq_feet'] = zillow_df['sq_feet'].replace('--', None)\n",
        "zillow_df['sq_feet'] = zillow_df['sq_feet'].replace('lot-', None)\n",
        "zillow_df['sq_feet'] = zillow_df['sq_feet'].replace('sqft-', None)\n",
        "zillow_df['sq_feet'] = zillow_df['sq_feet'].str.replace(',','').astype(float)"
      ],
      "execution_count": null,
      "outputs": [
        {
          "output_type": "stream",
          "text": [
            "/opt/anaconda3/lib/python3.7/site-packages/ipykernel_launcher.py:1: SettingWithCopyWarning: \n",
            "A value is trying to be set on a copy of a slice from a DataFrame.\n",
            "Try using .loc[row_indexer,col_indexer] = value instead\n",
            "\n",
            "See the caveats in the documentation: https://pandas.pydata.org/pandas-docs/stable/user_guide/indexing.html#returning-a-view-versus-a-copy\n",
            "  \"\"\"Entry point for launching an IPython kernel.\n",
            "/opt/anaconda3/lib/python3.7/site-packages/ipykernel_launcher.py:2: SettingWithCopyWarning: \n",
            "A value is trying to be set on a copy of a slice from a DataFrame.\n",
            "Try using .loc[row_indexer,col_indexer] = value instead\n",
            "\n",
            "See the caveats in the documentation: https://pandas.pydata.org/pandas-docs/stable/user_guide/indexing.html#returning-a-view-versus-a-copy\n",
            "  \n",
            "/opt/anaconda3/lib/python3.7/site-packages/ipykernel_launcher.py:3: SettingWithCopyWarning: \n",
            "A value is trying to be set on a copy of a slice from a DataFrame.\n",
            "Try using .loc[row_indexer,col_indexer] = value instead\n",
            "\n",
            "See the caveats in the documentation: https://pandas.pydata.org/pandas-docs/stable/user_guide/indexing.html#returning-a-view-versus-a-copy\n",
            "  This is separate from the ipykernel package so we can avoid doing imports until\n",
            "/opt/anaconda3/lib/python3.7/site-packages/ipykernel_launcher.py:4: SettingWithCopyWarning: \n",
            "A value is trying to be set on a copy of a slice from a DataFrame.\n",
            "Try using .loc[row_indexer,col_indexer] = value instead\n",
            "\n",
            "See the caveats in the documentation: https://pandas.pydata.org/pandas-docs/stable/user_guide/indexing.html#returning-a-view-versus-a-copy\n",
            "  after removing the cwd from sys.path.\n"
          ],
          "name": "stderr"
        }
      ]
    },
    {
      "cell_type": "markdown",
      "metadata": {
        "id": "uNe06qT-qt1Y"
      },
      "source": [
        "# Final Dataset - zillow_df\n",
        "Now we are going to do Data Visualization and Model Development using the zillow_df dataset."
      ]
    },
    {
      "cell_type": "code",
      "metadata": {
        "colab": {
          "base_uri": "https://localhost:8080/",
          "height": 289
        },
        "id": "2lLjGR6U8pL5",
        "outputId": "d41c8bfc-d798-4292-d7ec-062f366fdb00"
      },
      "source": [
        "zillow_df.head()"
      ],
      "execution_count": null,
      "outputs": [
        {
          "output_type": "execute_result",
          "data": {
            "text/html": [
              "<div>\n",
              "<style scoped>\n",
              "    .dataframe tbody tr th:only-of-type {\n",
              "        vertical-align: middle;\n",
              "    }\n",
              "\n",
              "    .dataframe tbody tr th {\n",
              "        vertical-align: top;\n",
              "    }\n",
              "\n",
              "    .dataframe thead th {\n",
              "        text-align: right;\n",
              "    }\n",
              "</style>\n",
              "<table border=\"1\" class=\"dataframe\">\n",
              "  <thead>\n",
              "    <tr style=\"text-align: right;\">\n",
              "      <th></th>\n",
              "      <th>prices</th>\n",
              "      <th>beds</th>\n",
              "      <th>baths</th>\n",
              "      <th>sq_feet</th>\n",
              "      <th>type</th>\n",
              "      <th>address</th>\n",
              "      <th>street_name</th>\n",
              "      <th>city</th>\n",
              "      <th>zip_code</th>\n",
              "    </tr>\n",
              "  </thead>\n",
              "  <tbody>\n",
              "    <tr>\n",
              "      <th>0</th>\n",
              "      <td>160000000.0</td>\n",
              "      <td>13.0</td>\n",
              "      <td>25.0</td>\n",
              "      <td>28660.0</td>\n",
              "      <td>House</td>\n",
              "      <td>67 Beverly Park Ct, Beverly Hills, CA 90210</td>\n",
              "      <td>67 Beverly Park Ct</td>\n",
              "      <td>Beverly Hills</td>\n",
              "      <td>90210</td>\n",
              "    </tr>\n",
              "    <tr>\n",
              "      <th>1</th>\n",
              "      <td>6700000.0</td>\n",
              "      <td>5.0</td>\n",
              "      <td>7.0</td>\n",
              "      <td>7466.0</td>\n",
              "      <td>House</td>\n",
              "      <td>9901 Kip Dr, Beverly Hills, CA 90210</td>\n",
              "      <td>9901 Kip Dr</td>\n",
              "      <td>Beverly Hills</td>\n",
              "      <td>90210</td>\n",
              "    </tr>\n",
              "    <tr>\n",
              "      <th>2</th>\n",
              "      <td>1495000.0</td>\n",
              "      <td>3.0</td>\n",
              "      <td>3.0</td>\n",
              "      <td>1500.0</td>\n",
              "      <td>House</td>\n",
              "      <td>9833 Easton Dr, Beverly Hills, CA 90210</td>\n",
              "      <td>9833 Easton Dr</td>\n",
              "      <td>Beverly Hills</td>\n",
              "      <td>90210</td>\n",
              "    </tr>\n",
              "    <tr>\n",
              "      <th>3</th>\n",
              "      <td>85000000.0</td>\n",
              "      <td>12.0</td>\n",
              "      <td>24.0</td>\n",
              "      <td>38000.0</td>\n",
              "      <td>House</td>\n",
              "      <td>2571 Wallingford Dr, Beverly Hills, CA 90210</td>\n",
              "      <td>2571 Wallingford Dr</td>\n",
              "      <td>Beverly Hills</td>\n",
              "      <td>90210</td>\n",
              "    </tr>\n",
              "    <tr>\n",
              "      <th>4</th>\n",
              "      <td>46500000.0</td>\n",
              "      <td>6.0</td>\n",
              "      <td>9.0</td>\n",
              "      <td>21046.0</td>\n",
              "      <td>House</td>\n",
              "      <td>1426 Summitridge Dr, Beverly Hills, CA 90210</td>\n",
              "      <td>1426 Summitridge Dr</td>\n",
              "      <td>Beverly Hills</td>\n",
              "      <td>90210</td>\n",
              "    </tr>\n",
              "  </tbody>\n",
              "</table>\n",
              "</div>"
            ],
            "text/plain": [
              "        prices  beds  baths  sq_feet   type  \\\n",
              "0  160000000.0  13.0   25.0  28660.0  House   \n",
              "1    6700000.0   5.0    7.0   7466.0  House   \n",
              "2    1495000.0   3.0    3.0   1500.0  House   \n",
              "3   85000000.0  12.0   24.0  38000.0  House   \n",
              "4   46500000.0   6.0    9.0  21046.0  House   \n",
              "\n",
              "                                        address          street_name  \\\n",
              "0   67 Beverly Park Ct, Beverly Hills, CA 90210   67 Beverly Park Ct   \n",
              "1          9901 Kip Dr, Beverly Hills, CA 90210          9901 Kip Dr   \n",
              "2       9833 Easton Dr, Beverly Hills, CA 90210       9833 Easton Dr   \n",
              "3  2571 Wallingford Dr, Beverly Hills, CA 90210  2571 Wallingford Dr   \n",
              "4  1426 Summitridge Dr, Beverly Hills, CA 90210  1426 Summitridge Dr   \n",
              "\n",
              "             city zip_code  \n",
              "0   Beverly Hills    90210  \n",
              "1   Beverly Hills    90210  \n",
              "2   Beverly Hills    90210  \n",
              "3   Beverly Hills    90210  \n",
              "4   Beverly Hills    90210  "
            ]
          },
          "metadata": {
            "tags": []
          },
          "execution_count": 23
        }
      ]
    },
    {
      "cell_type": "code",
      "metadata": {
        "colab": {
          "base_uri": "https://localhost:8080/"
        },
        "id": "YPfuwl_-dmD3",
        "outputId": "454d3fca-f13e-48ee-a483-3d9972772e6a"
      },
      "source": [
        "zillow_df.shape"
      ],
      "execution_count": null,
      "outputs": [
        {
          "output_type": "execute_result",
          "data": {
            "text/plain": [
              "(255, 9)"
            ]
          },
          "metadata": {
            "tags": []
          },
          "execution_count": 24
        }
      ]
    },
    {
      "cell_type": "code",
      "metadata": {
        "id": "bM4EabNoC8zy",
        "outputId": "45ec5c8d-06f8-40a1-9ab2-8226e9a93bc8"
      },
      "source": [
        "zillow_df.info()"
      ],
      "execution_count": null,
      "outputs": [
        {
          "output_type": "stream",
          "text": [
            "<class 'pandas.core.frame.DataFrame'>\n",
            "RangeIndex: 255 entries, 0 to 254\n",
            "Data columns (total 9 columns):\n",
            " #   Column       Non-Null Count  Dtype  \n",
            "---  ------       --------------  -----  \n",
            " 0   prices       255 non-null    float64\n",
            " 1   beds         255 non-null    float64\n",
            " 2   baths        233 non-null    float64\n",
            " 3   sq_feet      255 non-null    float64\n",
            " 4   type         255 non-null    object \n",
            " 5   address      255 non-null    object \n",
            " 6   street_name  255 non-null    object \n",
            " 7   city         255 non-null    object \n",
            " 8   zip_code     255 non-null    object \n",
            "dtypes: float64(4), object(5)\n",
            "memory usage: 18.1+ KB\n"
          ],
          "name": "stdout"
        }
      ]
    },
    {
      "cell_type": "code",
      "metadata": {
        "id": "K-3R5jhtC8zz",
        "outputId": "a0373b70-1eaf-44ec-b195-4a2ba38e707e"
      },
      "source": [
        "zillow_df.describe()"
      ],
      "execution_count": null,
      "outputs": [
        {
          "output_type": "execute_result",
          "data": {
            "text/html": [
              "<div>\n",
              "<style scoped>\n",
              "    .dataframe tbody tr th:only-of-type {\n",
              "        vertical-align: middle;\n",
              "    }\n",
              "\n",
              "    .dataframe tbody tr th {\n",
              "        vertical-align: top;\n",
              "    }\n",
              "\n",
              "    .dataframe thead th {\n",
              "        text-align: right;\n",
              "    }\n",
              "</style>\n",
              "<table border=\"1\" class=\"dataframe\">\n",
              "  <thead>\n",
              "    <tr style=\"text-align: right;\">\n",
              "      <th></th>\n",
              "      <th>prices</th>\n",
              "      <th>beds</th>\n",
              "      <th>baths</th>\n",
              "      <th>sq_feet</th>\n",
              "    </tr>\n",
              "  </thead>\n",
              "  <tbody>\n",
              "    <tr>\n",
              "      <th>count</th>\n",
              "      <td>2.550000e+02</td>\n",
              "      <td>255.000000</td>\n",
              "      <td>233.000000</td>\n",
              "      <td>255.000000</td>\n",
              "    </tr>\n",
              "    <tr>\n",
              "      <th>mean</th>\n",
              "      <td>1.285886e+07</td>\n",
              "      <td>34.557529</td>\n",
              "      <td>79.562232</td>\n",
              "      <td>6194.960784</td>\n",
              "    </tr>\n",
              "    <tr>\n",
              "      <th>std</th>\n",
              "      <td>1.788151e+07</td>\n",
              "      <td>477.146300</td>\n",
              "      <td>1113.279532</td>\n",
              "      <td>5035.582863</td>\n",
              "    </tr>\n",
              "    <tr>\n",
              "      <th>min</th>\n",
              "      <td>3.990000e+05</td>\n",
              "      <td>0.280000</td>\n",
              "      <td>2.000000</td>\n",
              "      <td>1016.000000</td>\n",
              "    </tr>\n",
              "    <tr>\n",
              "      <th>25%</th>\n",
              "      <td>3.497000e+06</td>\n",
              "      <td>3.000000</td>\n",
              "      <td>4.000000</td>\n",
              "      <td>2853.000000</td>\n",
              "    </tr>\n",
              "    <tr>\n",
              "      <th>50%</th>\n",
              "      <td>6.950000e+06</td>\n",
              "      <td>5.000000</td>\n",
              "      <td>6.000000</td>\n",
              "      <td>5054.000000</td>\n",
              "    </tr>\n",
              "    <tr>\n",
              "      <th>75%</th>\n",
              "      <td>1.662250e+07</td>\n",
              "      <td>6.000000</td>\n",
              "      <td>8.000000</td>\n",
              "      <td>7601.500000</td>\n",
              "    </tr>\n",
              "    <tr>\n",
              "      <th>max</th>\n",
              "      <td>1.600000e+08</td>\n",
              "      <td>7624.000000</td>\n",
              "      <td>17000.000000</td>\n",
              "      <td>38000.000000</td>\n",
              "    </tr>\n",
              "  </tbody>\n",
              "</table>\n",
              "</div>"
            ],
            "text/plain": [
              "             prices         beds         baths       sq_feet\n",
              "count  2.550000e+02   255.000000    233.000000    255.000000\n",
              "mean   1.285886e+07    34.557529     79.562232   6194.960784\n",
              "std    1.788151e+07   477.146300   1113.279532   5035.582863\n",
              "min    3.990000e+05     0.280000      2.000000   1016.000000\n",
              "25%    3.497000e+06     3.000000      4.000000   2853.000000\n",
              "50%    6.950000e+06     5.000000      6.000000   5054.000000\n",
              "75%    1.662250e+07     6.000000      8.000000   7601.500000\n",
              "max    1.600000e+08  7624.000000  17000.000000  38000.000000"
            ]
          },
          "metadata": {
            "tags": []
          },
          "execution_count": 26
        }
      ]
    },
    {
      "cell_type": "markdown",
      "metadata": {
        "id": "CuaeAGVlC8zz"
      },
      "source": [
        "## Data Visualization and EDA"
      ]
    },
    {
      "cell_type": "code",
      "metadata": {
        "id": "dXCOthq9C8z0",
        "outputId": "458a7537-c7c4-4084-b996-d5125ef6226b"
      },
      "source": [
        "zillow_df['baths'].value_counts().plot.barh()\n",
        "plt.title('Distribution of Number of Bathrooms')\n",
        "plt.xlabel('Frequency')\n",
        "plt.ylabel('Number of Bathrooms')"
      ],
      "execution_count": null,
      "outputs": [
        {
          "output_type": "execute_result",
          "data": {
            "text/plain": [
              "Text(0, 0.5, 'Number of Bathrooms')"
            ]
          },
          "metadata": {
            "tags": []
          },
          "execution_count": 27
        },
        {
          "output_type": "display_data",
          "data": {
            "image/png": "[encoded data removed]",
            "text/plain": [
              "<Figure size 432x288 with 1 Axes>"
            ]
          },
          "metadata": {
            "tags": [],
            "needs_background": "light"
          }
        }
      ]
    },
    {
      "cell_type": "code",
      "metadata": {
        "id": "i-TFJgxYqx8Y",
        "outputId": "a457cdca-57cc-4470-a10c-bd72ac41e284"
      },
      "source": [
        "sns.countplot(zillow_df['type'])\n",
        "plt.title('Distribution of Type of Property')\n",
        "plt.xlabel('Frequency')\n",
        "plt.ylabel('Type of Property')"
      ],
      "execution_count": null,
      "outputs": [
        {
          "output_type": "execute_result",
          "data": {
            "text/plain": [
              "Text(0, 0.5, 'Type of Property')"
            ]
          },
          "metadata": {
            "tags": []
          },
          "execution_count": 28
        },
        {
          "output_type": "display_data",
          "data": {
            "image/png": "[encoded data removed]",
            "text/plain": [
              "<Figure size 432x288 with 1 Axes>"
            ]
          },
          "metadata": {
            "tags": [],
            "needs_background": "light"
          }
        }
      ]
    },
    {
      "cell_type": "code",
      "metadata": {
        "id": "rJ7rK4eyC8z1",
        "outputId": "b62aabff-0fbb-4d00-aa8b-59d3891b12e5"
      },
      "source": [
        "sns.boxplot(zillow_df['prices'])\n",
        "plt.title('Boxplot of Prices')\n",
        "plt.xlabel('Prices (10 Millions)')\n"
      ],
      "execution_count": null,
      "outputs": [
        {
          "output_type": "execute_result",
          "data": {
            "text/plain": [
              "Text(0.5, 0, 'Prices (10 Millions)')"
            ]
          },
          "metadata": {
            "tags": []
          },
          "execution_count": 29
        },
        {
          "output_type": "display_data",
          "data": {
            "image/png": "[encoded data removed]",
            "text/plain": [
              "<Figure size 432x288 with 1 Axes>"
            ]
          },
          "metadata": {
            "tags": [],
            "needs_background": "light"
          }
        }
      ]
    },
    {
      "cell_type": "code",
      "metadata": {
        "id": "AKtRveSLC8z1",
        "outputId": "6ec77f81-24eb-407b-92c2-a2422c2ae3b7"
      },
      "source": [
        "sns.boxplot(zillow_df['sq_feet'])\n",
        "plt.title('Boxplot of Square Feet')\n",
        "plt.xlabel('Squre Feet')"
      ],
      "execution_count": null,
      "outputs": [
        {
          "output_type": "execute_result",
          "data": {
            "text/plain": [
              "Text(0.5, 0, 'Squre Feet')"
            ]
          },
          "metadata": {
            "tags": []
          },
          "execution_count": 30
        },
        {
          "output_type": "display_data",
          "data": {
            "image/png": "[encoded data removed]",
            "text/plain": [
              "<Figure size 432x288 with 1 Axes>"
            ]
          },
          "metadata": {
            "tags": [],
            "needs_background": "light"
          }
        }
      ]
    },
    {
      "cell_type": "code",
      "metadata": {
        "id": "t1znFkzCC8z2",
        "outputId": "2df0dc64-c293-4cde-a70c-eb089890dd51"
      },
      "source": [
        "sns.boxplot(zillow_df['beds'])\n",
        "plt.title('Boxplot of Beds')\n",
        "plt.xlabel('beds')"
      ],
      "execution_count": null,
      "outputs": [
        {
          "output_type": "execute_result",
          "data": {
            "text/plain": [
              "Text(0.5, 0, 'beds')"
            ]
          },
          "metadata": {
            "tags": []
          },
          "execution_count": 31
        },
        {
          "output_type": "display_data",
          "data": {
            "image/png": "[encoded data removed]",
            "text/plain": [
              "<Figure size 432x288 with 1 Axes>"
            ]
          },
          "metadata": {
            "tags": [],
            "needs_background": "light"
          }
        }
      ]
    },
    {
      "cell_type": "code",
      "metadata": {
        "id": "W-gvwUKGC8z3",
        "outputId": "8dda7c60-1ebf-46d8-d8a5-cac22677c488"
      },
      "source": [
        "plt.figure(figsize=(15,6))\n",
        "sns.countplot(zillow_df['beds'])\n",
        "plt.title('Distribution of Number of Bedrooms')\n",
        "plt.xlabel('Number of Bedrooms')\n",
        "plt.ylabel('count frequency')"
      ],
      "execution_count": null,
      "outputs": [
        {
          "output_type": "execute_result",
          "data": {
            "text/plain": [
              "Text(0, 0.5, 'count frequency')"
            ]
          },
          "metadata": {
            "tags": []
          },
          "execution_count": 32
        },
        {
          "output_type": "display_data",
          "data": {
            "image/png": "[encoded data removed]",
            "text/plain": [
              "<Figure size 1080x432 with 1 Axes>"
            ]
          },
          "metadata": {
            "tags": [],
            "needs_background": "light"
          }
        }
      ]
    },
    {
      "cell_type": "code",
      "metadata": {
        "id": "66wd-zMsC8z3"
      },
      "source": [
        "df=zillow_df.groupby(['type'])['beds'].mean().to_frame().rename(columns={'id':'count'}).reset_index()"
      ],
      "execution_count": null,
      "outputs": []
    },
    {
      "cell_type": "code",
      "metadata": {
        "id": "If2FghOWC8z3"
      },
      "source": [
        "df = df[df['type'] != '/']"
      ],
      "execution_count": null,
      "outputs": []
    },
    {
      "cell_type": "code",
      "metadata": {
        "id": "iyrWt9dWC8z4",
        "outputId": "5c2e1c80-9cce-4607-ef0f-7a4bbb088e48"
      },
      "source": [
        "sns.barplot('type','beds',data=df)\n",
        "plt.title('Distribution of Type of Houses in Average')\n"
      ],
      "execution_count": null,
      "outputs": [
        {
          "output_type": "execute_result",
          "data": {
            "text/plain": [
              "Text(0.5, 1.0, 'Distribution of Type of Houses in Average')"
            ]
          },
          "metadata": {
            "tags": []
          },
          "execution_count": 35
        },
        {
          "output_type": "display_data",
          "data": {
            "image/png": "[encoded data removed]",
            "text/plain": [
              "<Figure size 432x288 with 1 Axes>"
            ]
          },
          "metadata": {
            "tags": [],
            "needs_background": "light"
          }
        }
      ]
    },
    {
      "cell_type": "code",
      "metadata": {
        "id": "J4XMcGDXC8z4"
      },
      "source": [
        "zillow_df = zillow_df[zillow_df['beds'] < 100]"
      ],
      "execution_count": null,
      "outputs": []
    },
    {
      "cell_type": "code",
      "metadata": {
        "id": "NroNm5_IC8z5",
        "outputId": "47dd9538-ecbe-4584-c900-05494c3c0601"
      },
      "source": [
        "sns.heatmap(zillow_df[['prices','beds','baths']].corr(), annot=True, cmap = 'Reds')\n",
        "plt.show()\n"
      ],
      "execution_count": null,
      "outputs": [
        {
          "output_type": "display_data",
          "data": {
            "image/png": "[encoded data removed]",
            "text/plain": [
              "<Figure size 432x288 with 2 Axes>"
            ]
          },
          "metadata": {
            "tags": [],
            "needs_background": "light"
          }
        }
      ]
    },
    {
      "cell_type": "markdown",
      "metadata": {
        "id": "G6qOOIy0C8z5"
      },
      "source": [
        "## Model Development - Linear Regressions"
      ]
    },
    {
      "cell_type": "code",
      "metadata": {
        "id": "RNFjpJ0HC8z5",
        "outputId": "784591aa-39f9-468d-8a2c-961a3b59a3dc"
      },
      "source": [
        "x = zillow_df[['beds']]\n",
        "y = zillow_df[['prices']]\n",
        "xTrain, xTest, yTrain, yTest = holdout(x, y, test_size = 0.25, random_state = 0)\n",
        "linearRegressor = LinearRegression()\n",
        "linearRegressor.fit(xTrain, yTrain)\n",
        "yPrediction = linearRegressor.predict(xTest)\n",
        "plt.scatter(xTrain, yTrain, color = 'red')\n",
        "plt.plot(xTrain, linearRegressor.predict(xTrain), color = 'blue')\n",
        "plt.title('Prices vs Number of Beds (Training set)')\n",
        "plt.xlabel('Number of Beds')\n",
        "plt.ylabel('Prices')\n",
        "plt.show()"
      ],
      "execution_count": null,
      "outputs": [
        {
          "output_type": "display_data",
          "data": {
            "image/png": "[encoded data removed]",
            "text/plain": [
              "<Figure size 432x288 with 1 Axes>"
            ]
          },
          "metadata": {
            "tags": [],
            "needs_background": "light"
          }
        }
      ]
    },
    {
      "cell_type": "code",
      "metadata": {
        "id": "zynWn9DJC8z6",
        "outputId": "e79ec4b6-f524-4647-b9f3-5830dc8e1a89"
      },
      "source": [
        "plt.scatter(xTest, yTest, color = 'red')\n",
        "plt.plot(xTrain, linearRegressor.predict(xTrain), color = 'blue')\n",
        "plt.title('Prices vs Number of Beds (Test set)')\n",
        "plt.xlabel('Number of Beds')\n",
        "plt.ylabel('Prices')\n",
        "plt.show()"
      ],
      "execution_count": null,
      "outputs": [
        {
          "output_type": "display_data",
          "data": {
            "image/png": "[encoded data removed]",
            "text/plain": [
              "<Figure size 432x288 with 1 Axes>"
            ]
          },
          "metadata": {
            "tags": [],
            "needs_background": "light"
          }
        }
      ]
    },
    {
      "cell_type": "markdown",
      "metadata": {
        "id": "ygUnF-HJC8z6"
      },
      "source": [
        "## Model Development - Polynomial Regression"
      ]
    },
    {
      "cell_type": "code",
      "metadata": {
        "id": "c6gU95QPC8z7",
        "outputId": "f7585071-ecc6-4314-dca0-98be155ed5e8"
      },
      "source": [
        "\n",
        "pol = PolynomialFeatures (degree = 4)\n",
        "x_pol = pol.fit_transform(x)\n",
        "x_train, x_test, y_train, y_test = holdout(x_pol, y, test_size=0.3, random_state=0)\n",
        "Pol_reg = LinearRegression()\n",
        "Pol_reg.fit(x_train, y_train)\n",
        "y_train_pred = Pol_reg.predict(x_train)\n",
        "y_test_pred = Pol_reg.predict(x_test)\n",
        "print(Pol_reg.intercept_)\n",
        "print(Pol_reg.coef_)\n",
        "print(Pol_reg.score(x_test, y_test))"
      ],
      "execution_count": null,
      "outputs": [
        {
          "output_type": "stream",
          "text": [
            "[15095337.49712567]\n",
            "[[ 0.00000000e+00 -1.03698292e+07  2.73845200e+06 -1.80389632e+05\n",
            "   4.29651865e+03]]\n",
            "0.21773121960484573\n"
          ],
          "name": "stdout"
        }
      ]
    },
    {
      "cell_type": "code",
      "metadata": {
        "id": "QLMz1uR2C8z7",
        "outputId": "1385e113-a645-411f-e1e4-6fee076a0292"
      },
      "source": [
        "# Visualising the Polynomial Regression results \n",
        "plt.scatter(x, y, color = 'blue') \n",
        "\n",
        "plt.plot(x, Pol_reg.predict(pol.fit_transform(x)), color = 'red') \n",
        "plt.title('Polynomial Regression') \n",
        "plt.xlabel('Number of Beds') \n",
        "plt.ylabel('Price') \n",
        "\n",
        "plt.show() \n"
      ],
      "execution_count": null,
      "outputs": [
        {
          "output_type": "display_data",
          "data": {
            "image/png": "[encoded data removed]",
            "text/plain": [
              "<Figure size 432x288 with 1 Axes>"
            ]
          },
          "metadata": {
            "tags": [],
            "needs_background": "light"
          }
        }
      ]
    },
    {
      "cell_type": "code",
      "metadata": {
        "id": "YATbtck1C8z8",
        "outputId": "965f8815-c299-4ff7-82f9-e1a20acc36fa"
      },
      "source": [
        "##Evaluating the performance of the algorithm\n",
        "print('Mean Absolute Error:', metrics.mean_absolute_error(y_test, y_test_pred))\n",
        "print('Mean Squared Error:', metrics.mean_squared_error(y_test, y_test_pred))\n",
        "print('Root Mean Squared Error:', np.sqrt(metrics.mean_squared_error(y_test, y_test_pred)))"
      ],
      "execution_count": null,
      "outputs": [
        {
          "output_type": "stream",
          "text": [
            "Mean Absolute Error: 5778769.594145228\n",
            "Mean Squared Error: 66843897434595.47\n",
            "Root Mean Squared Error: 8175811.729400052\n"
          ],
          "name": "stdout"
        }
      ]
    },
    {
      "cell_type": "markdown",
      "metadata": {
        "id": "vPHLbmWuC8z8"
      },
      "source": [
        "## Model Development - KNN"
      ]
    },
    {
      "cell_type": "code",
      "metadata": {
        "id": "TKxByvq1C8z8",
        "outputId": "075e1558-67de-4b16-bf80-96dd83062056"
      },
      "source": [
        "# Split into training and test set \n",
        "x_train, x_test, y_train, y_test = train_test_split( \n",
        "\t\t\tx, y, test_size = 0.2, random_state=42) \n",
        "\n",
        "neighbors = np.arange(1, 9) \n",
        "train_accuracy = np.empty(len(neighbors)) \n",
        "test_accuracy = np.empty(len(neighbors)) \n",
        "\n",
        "# Loop over K values \n",
        "for i, k in enumerate(neighbors): \n",
        "\tknn = KNeighborsClassifier(n_neighbors=k) \n",
        "\tknn.fit(x_train, y_train) \n",
        "\t\n",
        "\t# Compute traning and test data accuracy \n",
        "\ttrain_accuracy[i] = knn.score(x_train, y_train) \n",
        "\ttest_accuracy[i] = knn.score(x_test, y_test) \n",
        "\n",
        "# Generate plot \n",
        "plt.plot(neighbors, test_accuracy, label = 'Testing dataset Accuracy') \n",
        "plt.plot(neighbors, train_accuracy, label = 'Training dataset Accuracy') \n",
        "\n",
        "plt.legend() \n",
        "plt.xlabel('n_neighbors') \n",
        "plt.ylabel('Accuracy') \n",
        "plt.show() \n"
      ],
      "execution_count": null,
      "outputs": [
        {
          "output_type": "stream",
          "text": [
            "/opt/anaconda3/lib/python3.7/site-packages/ipykernel_launcher.py:20: DataConversionWarning: A column-vector y was passed when a 1d array was expected. Please change the shape of y to (n_samples, ), for example using ravel().\n",
            "/opt/anaconda3/lib/python3.7/site-packages/ipykernel_launcher.py:20: DataConversionWarning: A column-vector y was passed when a 1d array was expected. Please change the shape of y to (n_samples, ), for example using ravel().\n",
            "/opt/anaconda3/lib/python3.7/site-packages/ipykernel_launcher.py:20: DataConversionWarning: A column-vector y was passed when a 1d array was expected. Please change the shape of y to (n_samples, ), for example using ravel().\n",
            "/opt/anaconda3/lib/python3.7/site-packages/ipykernel_launcher.py:20: DataConversionWarning: A column-vector y was passed when a 1d array was expected. Please change the shape of y to (n_samples, ), for example using ravel().\n",
            "/opt/anaconda3/lib/python3.7/site-packages/ipykernel_launcher.py:20: DataConversionWarning: A column-vector y was passed when a 1d array was expected. Please change the shape of y to (n_samples, ), for example using ravel().\n",
            "/opt/anaconda3/lib/python3.7/site-packages/ipykernel_launcher.py:20: DataConversionWarning: A column-vector y was passed when a 1d array was expected. Please change the shape of y to (n_samples, ), for example using ravel().\n",
            "/opt/anaconda3/lib/python3.7/site-packages/ipykernel_launcher.py:20: DataConversionWarning: A column-vector y was passed when a 1d array was expected. Please change the shape of y to (n_samples, ), for example using ravel().\n",
            "/opt/anaconda3/lib/python3.7/site-packages/ipykernel_launcher.py:20: DataConversionWarning: A column-vector y was passed when a 1d array was expected. Please change the shape of y to (n_samples, ), for example using ravel().\n"
          ],
          "name": "stderr"
        },
        {
          "output_type": "display_data",
          "data": {
            "image/png": "[encoded data removed]",
            "text/plain": [
              "<Figure size 432x288 with 1 Axes>"
            ]
          },
          "metadata": {
            "tags": [],
            "needs_background": "light"
          }
        }
      ]
    },
    {
      "cell_type": "markdown",
      "metadata": {
        "id": "Sf0A7DLHC8z9"
      },
      "source": [
        "### Insights\n",
        "- Most of properties have number of bathrooms between 2 - 8.\n",
        "- Most of properties are house type, and few of them are condos.\n",
        "- Most of properties have number of bedrooms between 2 - 8. Only a few of properties have more than 9 bedrooms.\n",
        "- The greatest average number of house type is new property. The second highest is house type. The third highest is condo.\n",
        "- The beds and baths features show the strongest correlation in heat map.\n",
        "- The price has a positive relationship with the number of beds. Price increase as the number of beds increase. However, there are some higher prices with the same number of beds.\n",
        "- Polynomial Regression is not a very good model in this situation. It is too sensitive to the outliers. However, we can still see a trend that the prices increase as the number of bedrooms increase.\n",
        "- As we can see based on the polynomial regression results below, the error is very large meaning that the model performance is not very good:\n",
        "    - Mean Absolute Error: 5778769.594145228\n",
        "    - Mean Squared Error: 66843897434595.47\n",
        "    - Root Mean Squared Error: 8175811.729400052\n",
        "- KNN: the testing dataset accuracy score is 0.02. The training datset accuracy score is between 0.08 to 0.14.\n",
        "- The KNN model is also not performing well because some price is much higher as compared with same number of bedrooms."
      ]
    },
    {
      "cell_type": "code",
      "metadata": {
        "id": "NdFHIfjyC8z9"
      },
      "source": [
        ""
      ],
      "execution_count": null,
      "outputs": []
    }
  ]
}